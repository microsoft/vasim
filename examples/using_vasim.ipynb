{
 "cells": [
  {
   "cell_type": "markdown",
   "metadata": {},
   "source": [
    "# VASIM Autoscaling Simulator Toolkit Example\n",
    "\n",
    "### Goals\n",
    "\n",
    "1. **Applicability:** Integration with various algorithms and parameter customization.\n",
    "\n",
    "2. **Simulation:** Realistic workload modeling, achieved within minutes.\n",
    "\n",
    "3. **Parameter Tuning:** Fine-tuning for optimal performance and cost savings.\n",
    "\n",
    "4. **Cost Analysis:** Demonstrating potential cost savings.\n",
    "\n",
    "\n",
    "### Overview: Autoscaling Components\n",
    "\n",
    "\n",
    "<img src=\"../docs/demo_pics/Autoscaling_infra.png\" alt=\"Autoscaling Components\" title=\"Autoscaling Components\" width=\"300\" >\n",
    "\n",
    "- Application: The running software, such as Postgres and SQL Server.\n",
    "- Controller: Manages tasks and publishes metrics.\n",
    "- Metrics Server: Stores and provides metrics.\n",
    "- Recommender Algorithm: Makes resource allocation decisions.\n",
    "- Scaler Entity: Enacts decisions, adjusting resource allocation.\n",
    "\n",
    "These components work together for effective autoscaling.\n",
    "\n",
    "\n",
    "### Components\n",
    "\n",
    "VASIM is a standalone Python package that internally replicates these components, maintaining and processing scaling states. It also includes a cluster state simulator for current utilization and limits, along with a post-processing analyzer for performance assessment. Input is in the same format as timestamp and utilization datasets. Output is a set of metrics and scaling decision trace.\n",
    "\n",
    "VASIM allows you to try different recommender algorithms to adapt to different workloads. Workloads can be bursty, monotononic, cyclical, and business needs may vary based on complexity, cost, and performance.\n",
    "\n",
    "<img src=\"../docs/demo_pics/VASim_infra.png\" alt=\"VASIM Overview\" title=\"VASIM Overview\" width=\"300\">\n",
    "\n",
    "\n"
   ]
  },
  {
   "cell_type": "markdown",
   "metadata": {},
   "source": [
    "# Getting started\n",
    "\n",
    "First, clone the code. You'll be modifying some of the python files, so make sure to add the `-e` to make it editable.  If you have not done this yet, uncomment the block below and run it.  (We leave it as commented out for now to avoid accidentally rerunning it!)"
   ]
  },
  {
   "cell_type": "code",
<<<<<<< HEAD
   "execution_count": 14,
=======
   "execution_count": 28,
>>>>>>> e052f61 (Add documentations about prediction enabled flag)
   "metadata": {
    "vscode": {
     "languageId": "shellscript"
    }
   },
   "outputs": [],
   "source": [
    "# git clone https://github.com/microsoft/vasim.git .\n",
    "# cd vasim\n",
    "# python -m pip install -e .[dev]\n",
    "# cd examples"
   ]
  },
  {
   "cell_type": "markdown",
   "metadata": {},
   "source": [
    "\n",
    "\n",
    "\n",
    "### Prepare data:\n",
    "Get your test data. For this experiment we'll be working with the [Alibaba dataset](https://github.com/alibaba/clusterdata), trace c_12104.\n",
    "\n",
    "There are some important things to note about the data for Vasim.\n",
    "\n",
    "1. You currently must name your csv's ending with `perf_event_log.csv`. (Ex: `c_12104.csv_perf_event_log.csv`.)  This is so the ingester does not accidentally read in other files in the directory such as output files.\n",
    "2. You must format your data in two columns (`TIMESTAMP`,`CPU_USAGE_ACTUAL`) as follows:  (TODO: We [plan](https://github.com/microsoft/vasim/issues/34) to use Open Telemetry format in the future.) \n",
    "3. You may have multiple CSVs, just put everything in the same folder."
   ]
  },
  {
   "cell_type": "code",
<<<<<<< HEAD
   "execution_count": 15,
=======
   "execution_count": 29,
>>>>>>> e052f61 (Add documentations about prediction enabled flag)
   "metadata": {
    "vscode": {
     "languageId": "shellscript"
    }
   },
   "outputs": [
    {
     "name": "stdout",
     "output_type": "stream",
     "text": [
      "TIMESTAMP,CPU_USAGE_ACTUAL\n",
      "2023.04.02-00:09:00:000,7.2\n",
      "2023.04.02-00:10:00:000,7.04\n",
      "2023.04.02-00:11:00:000,6.88\n",
      "2023.04.02-00:12:00:000,6.72\n",
      "2023.04.02-00:13:00:000,6.48\n",
      "2023.04.02-00:14:00:000,6.501818181818182\n",
      "2023.04.02-00:15:00:000,6.523636363636364\n",
      "2023.04.02-00:16:00:000,6.545454545454546\n",
      "2023.04.02-00:17:00:000,6.567272727272727\n"
     ]
    }
   ],
   "source": [
    "! head data/c_12104.csv_perf_event_log.csv"
   ]
  },
  {
   "cell_type": "markdown",
   "metadata": {},
   "source": [
    "### Prepare algorithm\n",
    "\n",
    "You also need to implement your Recommender algorithm. There are examples in the [recommender](../recommender) folder.\n",
    "\n",
    "To implement a recommender you will need to create a file for your algorithm, add any paramters you need to the `__init__` function and then implement the core logic of your recommender in the `run()` function.\n",
    "\n",
    "```python\n",
    "class SimpleAdditiveRecommender(Recommender):\n",
    "    def __init__(self, cluster_state_provider, save_metadata=True):\n",
    "        # Copy the code at the top of this function as-is.\n",
    "\n",
    "        # Put your parameters here hard-coded, or pass them in to your\n",
    "        # `metadata.json` file in the `algo_specific_config` section.\n",
    "        self.my_param = self.algo_params.get(\"myparam\", 2)\n",
    "\n",
    "    def run(self, recorded_data):\n",
    "        \"\"\"\n",
    "        This method runs the recommender algorithm and returns the new number of\n",
    "              cores to scale to (new limit).\n",
    "\n",
    "        Inputs:\n",
    "            recorded_data (pd.DataFrame): The recorded metrics data for the current time window to simulate\n",
    "        Returns:\n",
    "            latest_time (datetime): The latest time of the performance data.\n",
    "            new_limit (float): The new number of cores to scale to.\n",
    "        \"\"\"\n",
    "\n",
    "        # Your logic goes here! Look at the data in the `recorded_data` dataframe,\n",
    "        #   do a calculation, and return the number of cores to scale to.\n",
    "\n",
    "        return new_limit\n",
    "```\n"
   ]
  },
  {
   "cell_type": "markdown",
   "metadata": {},
   "source": [
    "For this example, we'll be working with the [DummyAdditiveRecommender](../recommender/DummyAdditiveRecommender.py), which takes a moving average of the CPU values and adds a fixed buffer amount to the top.\n",
    "\n",
    "We'll define a parameter: `\"addend\": 2`, and this will add `2` CPU cores to the limit, providing a healthy buffer."
   ]
  },
  {
   "cell_type": "markdown",
   "metadata": {},
   "source": [
    "### Preparing metadata.json\n",
    "We also need to prepare a file that provides the default set of configuration parameters. You can see some examples of this file in [the test folder](../tests/test_data/alibaba_control_c_29247_denom_1_mini). The default name of this file is `metadata.json`, but you can give it any name and pass it in as a parameter.\n",
    "\n",
    "There are three sets of parameters:\n",
    "* **`algo_specific_config`** : this is where you put the parameters you will use in your algorithm's `run` function\n",
    "  * An example: `addend: 2` for the `DummyAdditiveRecommender` we'll be using for this example.\n",
    "* **`general_config`** : These are the parameters related to how the csv trace data is passed in, and the simulation safe-guards. These parameters are required and will be overriden with defaults if not provided with warnings. \n",
    "  * `window` (int): the amount of data that is passed to the algorithm in the `recorded_data` paramaeter in the `run` function. _See \"original window\" below_\n",
    "  * `lag` (float): Number of minutes to wait after making a decision\n",
    "  * `min_cpu_limit` (int): The minimum number of cores to recommend. This is used as a [safety guard](https://github.com/microsoft/vasim/blob/198a06062a91f6455b87710b0e59834530b6ea29/simulator/SimulatedInfraScaler.py#L56) in the simulated infra.\n",
    "  * `max_cpu_limit` (int): The maximum number of cores to recommend. (same as min)\n",
    "  * `recovery_time` (int of minutes, optional, default is 15): The **minimum** amount of time in minutes to wait before making another scaling decision.\n",
    "* **`prediction_config`** : this relates to the window of [predicted](https://github.com/microsoft/vasim/blob/198a06062a91f6455b87710b0e59834530b6ea29/recommender/cluster_state_provider/PredictiveFileClusterStateProvider.py#L29) data that is fed into the algorithm. It uses a time series to forecast what the data might be in the future to help the algorithm proactively scale\n",
    "  * `enabled`: (boolean): This is a flag that enables prediction configuration. If it's set to false, prediction is disabled.  \n",
    "  * `waiting_before_predict` (int of minutes) : This is the amount of data to consume before making prediction. It is usually set to `1440`, for 60 min * 24 hours = 1 day. In general, it is waiting for one full cycle of data (`period` in the graph below) to pass. Sometimes this is daily, sometimes weekly, etc.  TODO: autodetermine this.\n",
    "  * `frequency_minutes` (int) : This is how frequent your timestamps are in the csvs you provide. This *MUST* match your csvs.  (Ex: 1 in the above case.) TODO: automate.\n",
    "  * `forecasting_models` (string, unused): For now we only support \"naive\".  This parameter is not currently used because it's the only thing supported. However, you still must provide a string for now as a placeholder\n",
    "  * `minutes_to_predict` (int): This is the “forecasting horizon” below/how much to look forward.  Increasing this means you’ll be MORE proactive in adjusting based on history. This is a good one to tune depending on how consisten your data is.\n",
    "  * `total_predictive_window` (int): _This is the \"new window\" in the diagram below_, essentially the total amount of minutes you want in the window. A common setting for this parameter is `minutes_to_predict`/`frequency_minutes` + `window`.  If you would like to change this, you can do it here. \n",
    "   \n",
    "\n",
    "Some important things to note:\n",
    "* `recovery_time` means that the simulator will NOT scale up/down even if the decision indicates to scale, until that minimum number of minutes has passed. This simulates a live system recovering.\n",
    "* `lag` is the number of minutes to wait between making a decision/running your `run()` function. For example, for very heavy-weight algorithms, you may only want to run every 10 minutes. This also is used to prevent thrashing.\n",
    "\n",
    "Here is a picture that explains the `window` and `prediction_config`:\n",
    "\n",
    "<img src=\"../docs/demo_pics/predictive_window.png\" alt=\"Data Windows\" title=\"Data Windows\" >\n",
    "\n",
    "Here is an example of the `metadata.json`:"
   ]
  },
  {
   "cell_type": "code",
<<<<<<< HEAD
   "execution_count": 16,
=======
   "execution_count": 30,
>>>>>>> e052f61 (Add documentations about prediction enabled flag)
   "metadata": {
    "vscode": {
     "languageId": "shellscript"
    }
   },
   "outputs": [
    {
     "name": "stdout",
     "output_type": "stream",
     "text": [
      "{\n",
      "    \"algo_specific_config\": {\n",
      "        \"addend\": 2\n",
      "    },\n",
      "    \"general_config\": {\n",
      "        \"window\": 20,\n",
      "        \"lag\": 10,\n",
      "        \"max_cpu_limit\": 25,\n",
      "        \"min_cpu_limit\": 2.0\n",
      "    },\n",
      "    \"prediction_config\": {\n",
      "        \"enabled\": false,\n",
      "        \"waiting_before_predict\": 1440,\n",
      "        \"frequency_minutes\": 1,\n",
      "        \"minutes_to_predict\": 10,\n",
      "        \"forecasting_models\": \"naive\",\n",
      "        \"total_predictive_window\": 30\n",
      "    }\n",
      "}"
     ]
    }
   ],
   "source": [
    "! cat data/metadata.json"
   ]
  },
  {
   "cell_type": "markdown",
   "metadata": {
    "vscode": {
     "languageId": "shellscript"
    }
   },
   "source": [
    "Once you have all three (CSV, algo, metadata), for now, there is one last step. (TODO: [Issue #19](https://github.com/microsoft/vasim/issues/19))  You must currently [add the name of your algorithm to the simulator](https://github.com/microsoft/vasim/blob/9b50d9080d4a26fbad014159484fd110af95fa75/simulator/InMemorySimulator.py#L87) for it to be called, and import it at the top of the [InMemorySimulator.py file](../simulator/InMemorySimulator.py).\n",
    "\n",
    "```python\n",
    " def _create_recommender_algorithm(self, algorithm):\n",
    "        if algorithm == 'multiplicative':\n",
    "            return SimpleMultiplierRecommender(self.cluster_state_provider)\n",
    "        elif algorithm == 'additive':\n",
    "            return SimpleAdditiveRecommender(self.cluster_state_provider)\n",
    "        # Add your own algorithm here!!!\n",
    "        # TODO: Make this more dynamic\n",
    "        else:\n",
    "            raise ValueError(f\"Unknown algorithm: {algorithm}\")\n",
    "```\n",
    "\n",
    "**REMEMEBER: You must reload this notebook/restart the kernel for Python to see your new algorithm**\n"
   ]
  },
  {
   "cell_type": "markdown",
   "metadata": {},
   "source": [
    "## Getting started with a single simulation\n",
    "\n",
    "Now that we have the csv, algorithm, and parameter config, we can run a single simulation for a fixed set of parameters.\n",
    "\n",
    "`initial_cpu_limit` is the current limit that your system is set to. (TODO: we could move this to `metadata.json` but we found that value changed more than the other variables in the file, so for now it is a parameter.)\n",
    "\n",
    "\n",
    "##### Important\n",
    "If you get an error below that is something like `KeyError: \"Cannot get left slice bound for non-unique label: Timestamp...` this is because you have some non perf_event_log.csvs in your \"data\" folder, most likely output in the `_siulations` output folder. This is a [bug](https://github.com/microsoft/vasim/issues/18).\n",
    "\n",
    "To prevent this, let's clear out old output files:"
   ]
  },
  {
   "cell_type": "code",
<<<<<<< HEAD
   "execution_count": 17,
=======
   "execution_count": 31,
>>>>>>> e052f61 (Add documentations about prediction enabled flag)
   "metadata": {
    "vscode": {
     "languageId": "shellscript"
    }
   },
   "outputs": [],
   "source": [
    "# clear out CSV results from prior runs\n",
    "! rm -rf data/_simulations\n",
    "! rm -rf data_tuning"
   ]
  },
  {
   "cell_type": "code",
<<<<<<< HEAD
   "execution_count": 18,
=======
   "execution_count": 32,
>>>>>>> e052f61 (Add documentations about prediction enabled flag)
   "metadata": {
    "vscode": {
     "languageId": "shellscript"
    }
   },
   "outputs": [
    {
     "name": "stderr",
     "output_type": "stream",
     "text": [
      "ERROR:root:Not enough data to make a decision. (May be due to warmup time).\n"
     ]
    },
    {
     "name": "stdout",
     "output_type": "stream",
     "text": [
      "Prediction config was detected:{'enabled': False, 'waiting_before_predict': 1440, 'frequency_minutes': 1, 'minutes_to_predict': 10, 'forecasting_models': 'naive', 'total_predictive_window': 30}\n",
      "config: {}\n",
      "logger: <RootLogger root (ERROR)>\n",
      "data_dir: /datadrive/vasim/examples/data\n",
      "features: ['cpu']\n",

      "decision_file_path: /datadrive/vasim/examples/data/_simulations/target_cfg-7c5e8a2e-0e14/decisions.txt\n",

      "save_metadata: True\n",
      "frequency_minutes: 1\n",
      "minutes_to_predict: 10\n",
      "freq: 1T\n",
      "waiting_time: 1440\n",
      "data_processor: <vasim.recommender.forecasting.utils.DataProcessor.DataProcessor object at 0x734e0cf4ff10>\n",
      "data_forecaster: <vasim.recommender.forecasting.TimeSeriesForecaster.TimeSeriesForecaster object at 0x734e0cf4fd30>\n",
      "cores: 0\n",
      "predicted_cores: 0\n",
      "_prediction_activated: False\n",
      "number_of_points_to_predict: 10\n",
      "predictive_window: 30\n",
      "curr_cpu_limit: None\n"
     ]
    },
    {
     "name": "stderr",
     "output_type": "stream",
     "text": [
      "ERROR:root:Not enough data to make a decision. (May be due to warmup time).\n"
     ]
    },
    {
     "name": "stdout",
     "output_type": "stream",
     "text": [
<<<<<<< HEAD
      "Prediction config was detected:{'waiting_before_predict': 1440, 'frequency_minutes': 1, 'minutes_to_predict': 10, 'forecasting_models': 'naive', 'total_predictive_window': 30, 'enabled': False}\n",
      "config: {}\n",
      "logger: <RootLogger root (ERROR)>\n",
      "data_dir: /datadrive/vasim/examples/data\n",
      "features: ['cpu']\n",
      "decision_file_path: /datadrive/vasim/examples/data/_simulations/target_cfg-bc2dd67d-d9a4/decisions.txt\n",
      "save_metadata: True\n",
      "frequency_minutes: 1\n",
      "minutes_to_predict: 10\n",
      "freq: 1T\n",
      "waiting_time: 1440\n",
      "data_processor: <vasim.recommender.forecasting.utils.DataProcessor.DataProcessor object at 0x734db257b8b0>\n",
      "data_forecaster: <vasim.recommender.forecasting.TimeSeriesForecaster.TimeSeriesForecaster object at 0x734db257b850>\n",
      "cores: 0\n",
      "predicted_cores: 0\n",
      "_prediction_activated: False\n",
      "number_of_points_to_predict: 10\n",
      "predictive_window: 30\n",
      "curr_cpu_limit: None\n"
     ]
    },
    {
     "name": "stderr",
     "output_type": "stream",
     "text": [
      "ERROR:root:Not enough data to make a decision. (May be due to warmup time).\n"
     ]
    },
    {
     "name": "stdout",
     "output_type": "stream",
     "text": [
=======
>>>>>>> e052f61 (Add documentations about prediction enabled flag)
      "Starting simulation at 2023-04-02 00:09:00 and continuing till 2023-04-09 23:20:00\n",
      "Setting number of cores to 10\n",
      "Simulation finished at 2023-04-09 23:19:00\n"
     ]
    }
   ],
   "source": [
    "from vasim.simulator.InMemorySimulator import InMemoryRunnerSimulator\n",
    "\n",
    "# Specify your data directory, algorithm, initial cores count and config path if you did not name your metadata.json as metadata.json\n",
    "runner = InMemoryRunnerSimulator(data_dir=\"data/\",  algorithm=\"additive\", initial_cpu_limit=10, config_path=\"data/metadata.json\")\n",
    "\n",
    "results = runner.run_simulation()"
   ]
  },
  {
   "cell_type": "markdown",
   "metadata": {
    "vscode": {
     "languageId": "shellscript"
    }
   },
   "source": [
    "You can see in the output above that the metadata.json file is read and the simulation is run. The results are stored in the results variable. You can print the results to see the output.\n",
    "\n",
    "**NOTE** These results will also be saved in a folder started with `_simulations/target_*` with the `*` being a uniquely generated identifier\n"
   ]
  },
  {
   "cell_type": "code",
<<<<<<< HEAD

   "execution_count": 19,


=======
   "execution_count": 33,
>>>>>>> e052f61 (Add documentations about prediction enabled flag)
   "metadata": {
    "vscode": {
     "languageId": "shellscript"
    }
   },
   "outputs": [
    {
     "name": "stdout",
     "output_type": "stream",
     "text": [
      "{\n",
      "  \"average_slack\": 2.6615605822802952,\n",
      "  \"average_insufficient_cpu\": 0.011724998250317914,\n",
      "  \"sum_slack\": 30477.530227691663,\n",
      "  \"sum_insufficient_cpu\": 134.26295496439045,\n",
      "  \"num_scalings\": 289,\n",
      "  \"num_insufficient_cpu\": 99,\n",
      "  \"insufficient_observations_percentage\": 0.8645533141210375,\n",
      "  \"slack_percentage\": 23.172159395780824,\n",
      "  \"median_insufficient_cpu\": 0.0,\n",
      "  \"median_slack\": 2.4399999999999995,\n",
      "  \"max_slack\": 8.236\n",
      "}\n"
     ]
    }
   ],
   "source": [
    "# pretty print the results\n",
    "import json\n",
    "print(json.dumps(results, indent=2))"
   ]
  },
  {
   "cell_type": "markdown",
   "metadata": {
    "vscode": {
     "languageId": "shellscript"
    }
   },
   "source": [
    "### Understanding the output\n",
    "\n",
    "\n",
    "Of the json output above, the fields are as follows:\n",
    "* `average_slack` - The average slack in CPU cores across all the time intervals. (Ex: here it is 2.66 because the \"additive\" algorithm is adding 2 cores for a buffer)\n",
    "* `average_insufficient_cpu` - The average number of insufficient CPU cores across all the time intervals. (Ex: here it is nearly 0 because the \"additive\" algorithm is adding 2 cores for a buffer)\n",
    "* `sum_slack` - The sum of slack in CPU cores across all the time intervals.\n",
    "* `sum_insufficient_cpu` - The sum of CPU cores that were insufficient across all the time intervals.\n",
    "* `num_scalings` - The number of times the CPU was scaled by the simulated scaler.\n",
    "* `num_insufficient_cpu` - The number of times the CPU was insufficient across all the time intervals.\n",
    "* `insufficient_observations_percentage` - The percentage of times the CPU was insufficient across all the time intervals.\n",
    "* `slack_percentage` - The percentage of slack in CPU cores across all the time intervals.\n",
    "* `median_insufficient_cpu` - The median number of insufficient CPU cores across all the time intervals \n",
    "* `median_slack` - The median slack in CPU cores across all the time intervals.\n",
    "* `max_slack` - The maximum slack in CPU cores across all the time intervals.\n",
    "\n",
    "\n",
    "There is also a plot that will be generated in the `_simulations/target_*` folder."
   ]
  },
  {
   "cell_type": "markdown",
   "metadata": {
    "vscode": {
     "languageId": "shellscript"
    }
   },
   "source": [
    "You will also have a graph in your `_simulations/target*` folder that looks something like this, named `cpu_usage_and_new_limit.pdf`. The red line is the CPU limits your algorithm set, and the blue line is the real values provided in the csv.  You can see that the algorithm consistently set the limit about 2 CPUs above the running CPU total.\n",
    "\n",
    "<img src=\"../docs/demo_pics/cpu_usage_and_new_limit.png\" alt=\"Single Run Simulation\" title=\"Single Run Simulation\" width=\"450\" >\n",
    "\n",
    "This image is hard-coded here due to the random path and it being PDF rather than png."
   ]
  },
  {
   "cell_type": "markdown",
   "metadata": {},
   "source": [
    "Now we need to do some cleanup, we will delete this file to not conflict with others experiments"
   ]
  },
  {
   "cell_type": "code",
<<<<<<< HEAD
   "execution_count": 20,
=======
   "execution_count": 34,
>>>>>>> e052f61 (Add documentations about prediction enabled flag)
   "metadata": {},
   "outputs": [],
   "source": [
    "! rm -rf data/_simulations"
   ]
  },
  {
   "cell_type": "markdown",
   "metadata": {
    "vscode": {
     "languageId": "shellscript"
    }
   },
   "source": [
    "## Getting started with multiple simulations and parameter tuning\n",
    "\n",
    "Now that you've run a single simulation for a single output, we'll move on to parameter tuning!  Looking at the parameter we have above, we have our \"addend\" buffer.  Another good one to due is the total window size to feed the algorithm. Since in our dummy example we smooth the entire window and add that as a buffer, we want to simulate the impact of changing that \n",
    "parameter.\n",
    "\n",
    "BTW: The `logger: <RootLogger root (ERROR)>` are expected for this setup"
   ]
  },
  {
   "cell_type": "code",
<<<<<<< HEAD
   "execution_count": 27,
=======
   "execution_count": 35,
>>>>>>> e052f61 (Add documentations about prediction enabled flag)
   "metadata": {},
   "outputs": [
    {
     "name": "stderr",
     "output_type": "stream",
     "text": [
      "ERROR:root:Not enough data to make a decision. (May be due to warmup time).\n",
      "ERROR:root:Not enough data to make a decision. (May be due to warmup time).\n",
      "ERROR:root:Not enough data to make a decision. (May be due to warmup time).\n",
      "ERROR:root:Not enough data to make a decision. (May be due to warmup time).\n",
      "ERROR:root:Not enough data to make a decision. (May be due to warmup time).\n",
      "ERROR:root:Not enough data to make a decision. (May be due to warmup time).\n"
     ]
    }
   ],
   "source": [
    "%%capture\n",
    "\n",
    "from vasim.simulator.ParameterTuning import tune_with_strategy\n",
    "\n",
    "# First create some test data to tune\n",
    "config_path = \"data/metadata.json\"  # This will be the baseline\n",
    "algo_specific_params_to_tune = {\n",
    "    \"addend\": [1, 2, 3],  # the addend is the number of minutes to add to the prediction\n",
    "}\n",
    "params_to_tune = {\n",
    "    'window': [60, 120],  # the window size is the number of minutes to consider for the prediction\n",
    "}\n",
    "predictive_params_to_tune = None # For now, we will not tune the predictive model\n",
    "selected_algorithm = \"additive\"\n",
    "initial_cpu_limit = 10\n",
    "strategy = \"grid\"  # Options are \"grid\" and \"random\". Grid will try all combinations, random will try a random subset\n",
    "data_dir = \"data\"\n",
    "num_workers = 6  # how many threads to spin up. Here there are 6 (2*3) combinations possible, so we will use 6 threads\n",
    "num_combinations = 6\n",
    "\n",
    "# This will run all 6 combinations in parallel\n",
    "tune_with_strategy(config_path, strategy, num_combinations=num_combinations,\n",
    "                    num_workers=num_workers, data_dir=data_dir, \n",
    "                    algorithm=selected_algorithm, initial_cpu_limit=initial_cpu_limit,\n",
    "                    algo_specific_params_to_tune=algo_specific_params_to_tune,\n",
    "                    general_params_to_tune=params_to_tune,\n",
    "                    predictive_params_to_tune=predictive_params_to_tune)"
   ]
  },
  {
   "cell_type": "markdown",
   "metadata": {},
   "source": [
    "The above call `tune_with_strategy` will run all possible combinations for this `grid`. It will generate 6 folders, in a folder that ends in the token `_tuning`. For example, here it should be in the `data_tuning` folder, and inside that folder there should be 6 folders named as `target_uuid`."
   ]
  },
  {
   "cell_type": "code",
<<<<<<< HEAD
   "execution_count": 22,
=======
   "execution_count": 36,
>>>>>>> e052f61 (Add documentations about prediction enabled flag)
   "metadata": {
    "vscode": {
     "languageId": "powershell"
    }
   },
   "outputs": [
    {
     "name": "stdout",
     "output_type": "stream",
     "text": [
      "total 0\n",
      "drwxrwxr-x 2 apavlenko apavlenko 178 Sep 18 05:22 target_cfg-10fc0bfc-a654\n",
      "drwxrwxr-x 2 apavlenko apavlenko 178 Sep 18 05:22 target_cfg-2d2950d8-46f4\n",
      "drwxrwxr-x 2 apavlenko apavlenko 178 Sep 18 05:22 target_cfg-43d972a0-0864\n",
      "drwxrwxr-x 2 apavlenko apavlenko 178 Sep 18 05:22 target_cfg-6a972aeb-6bb4\n",
      "drwxrwxr-x 2 apavlenko apavlenko 178 Sep 18 05:22 target_cfg-6da0b30f-4d04\n",
      "drwxrwxr-x 2 apavlenko apavlenko 178 Sep 18 05:22 target_cfg-d86895a1-acc4\n"
     ]
    }
   ],
   "source": [
    "# list the contents of the data_tuning directory\n",
    "! ls -l data_tuning"
   ]
  },
  {
   "cell_type": "markdown",
   "metadata": {},
   "source": [
    "For each of these folders, you will see the saved output (`calc_metrics.json`) and also a graph like the one above named as `cpu_usage_and_new_limit.pdf`.\n",
    "\n",
    "### Plotting the Pareto curve\n",
    "\n",
    "But it is easier if we find the \"best\" combination, meaning lowest slack (excess CPU) and lowest throttling (insufficient CPU).  We can do that by plotting them on a Paretto curve"
   ]
  },
  {
   "cell_type": "code",
<<<<<<< HEAD
   "execution_count": 23,
=======
   "execution_count": 37,
>>>>>>> e052f61 (Add documentations about prediction enabled flag)
   "metadata": {},
   "outputs": [],
   "source": [
    "%%capture\n",
    "\n",
    "from vasim.simulator.analysis.pareto_visualization import create_pareto_curve_from_folder\n",
    "\n",
    "# Now we'll plot them.  For parameters, put hte name of our folder, and the name of the output folder (Usually just the name of your folder with _tuning appended)\n",
    "pareto_2d = create_pareto_curve_from_folder(\"data\", \"data_tuning\")\n",
    "\n"
   ]
  },
  {
   "cell_type": "code",
<<<<<<< HEAD
   "execution_count": 24,
=======
   "execution_count": 38,
>>>>>>> e052f61 (Add documentations about prediction enabled flag)
   "metadata": {},
   "outputs": [
    {
     "data": {
      "image/png": "iVBORw0KGgoAAAANSUhEUgAAAZAAAAEsCAYAAADtt+XCAAAAOXRFWHRTb2Z0d2FyZQBNYXRwbG90bGliIHZlcnNpb24zLjcuNSwgaHR0cHM6Ly9tYXRwbG90bGliLm9yZy/xnp5ZAAAACXBIWXMAAA9hAAAPYQGoP6dpAABOCklEQVR4nO3de1wU9f4/8NcusMtyWS5ykxDkoihyUVFojx1JMRDRvHU065RlaiZ+8xaW55Rov+8Js9PVTCtL7GulaV6OhCgpYCZoInhFSwFRAfECLHJn9/37g3YOKwvCusqC7+fjsQ+dz7znM5/P7jLvnZnPzIDYXXl4eNCQIUPo6tWrbcZMnz69RXlYWBiFhYUJ06mpqQSAVq1apRX30UcfEQDaunWrVvmCBQtILBZTQ0NDu9paW1tLEomEoqOj6datW63G3dmu5lQqFd28eZOuX79O0dHRNHDgQGFeTEwMiUQiunnzZpvtAEBz586lmJgYMjU1pe+++65d7SciGjhwID322GPCdGNjIzk5OdG0adOEsri4ODIxMaE9e/a0u972LhcXF0cAWpRv2LCBAFB+fr5Q5uHhQX5+flpx5eXlBICio6O1ynNycggAffXVV+1ub35+PgGgDRs2CGXTp08nAFRaWqoV++qrr5KdnZ1WPwzZ1+nTp5OlpWWL2LCwMBowYECLcgAUFxdHRE3fKblcTuPHj2+1LUT//ftITU0lIqLjx48TANq4cSNdv35d6zVz5kySSqWkUqm0+nL06FGtOj/44AMCQBUVFUKZpaWlzr/Xu+nI91+hULQonzp1KllYWFBjYyMRNb2nHh4eLeJa+1yMjRjsrlatWoXTp0+jV69eCAkJwfLly5GXl3dPdbq7u2tN29jYAAB69erVolytVqOioqJd9UqlUrz77rvYs2cPnJ2dMXz4cKxatQolJSV3XXbjxo0IDAyEubk5evToAUdHR/z0009a67548SJcXV1hb29/1/q++eYbrFmzBqtXr8a0adPa1X4AmDp1Kn799VdcvXoVAJCWlobS0lJMnTpViJk7dy769u2LqKgouLm5YcaMGUhOTr5r3fou15aOfJYAUFZWdk/rAwBzc3M4OjpqldnZ2WnVfT/6qq/r169DqVTC39+/Q8v98ccfAIDp06fD0dFR67V+/XrU1dW1+Nu48/Ows7MDYJj3vSPf/z59+rQo69u3L6qrq3H9+vV7bosx4ATSDlOmTEFeXh5Wr14NV1dXvPfeexgwYAD27NkjxIhEIp3LqlQqneUmJiYdKieidrd3wYIF+P333xEfHw9zc3O89dZb6N+/P7Kzs1tdZtOmTXjhhRfg7e2Nr776CsnJyUhJScHIkSOhVqvbve7mhg0bBmdnZ3z66ae4detWu5ebOnUqiAhbt24FAPzwww+wsbHB6NGjhRgnJyfk5OTgP//5D5588kmkpqYiKioK06dPb7Pu9ixnTJ9la1qru7n70dcHTfPde++995CSkqLzZWVlpbXM/XzfDc3Y3/+74QTSTj179sTcuXOxc+dO5Ofno0ePHvjXv/4lzLezs0N5eXmL5S5duvQAW/lf3t7eWLx4Mfbt24fTp0+jvr4e77//fqvx27Ztg5eXF7Zv347nnnsOkZGRGDVqFGpra1vUW1RU1K6E4OPjg3379qGoqAijR49GZWVlu9ru6emJkJAQbNmyBY2Njdi+fTsmTJgAqVSqFSeRSDBu3Dh89tlnuHjxIl5++WV88803uHDhQpv13205zS/WOz/Pzvos74Wx9NXR0RFyuRynT5/u0HLe3t4AALlcjlGjRul8mZmZdbg9rW2429Oe9n7/NXtPzf3++++wsLAQ9h6NbbvRUZxA7kKlUrXYRXZycoKrqyvq6uqEMm9vb2RmZqK+vl4oS0xMxOXLlx9YWwGgurpa50bf2tpaq7130vxqa/4r7ciRI8jIyNCKmzx5MogIK1asaFGHrl94gYGBSEpKQm5uLsaNG4eampp29WPq1KnIzMzE119/jRs3bmgdvgKAmzdvak2LxWIEBgYCQJv9bM9ymo3WwYMHhbiqqips3LixXW03FsbUV7FYjAkTJmD37t04duxYi/mt7R0EBwfD29sb//73v3H79u0W8/U9FGRpaalzw303Hfn+Z2Rk4Pjx48L05cuXsWvXLkRERAh/b97e3qioqMDJkyeFuOLiYuzYsaPDbesMpp3dAGNXWVkJNzc3PPXUUwgKCoKVlRV+/vln/Pbbb1q/6GfOnIlt27Zh9OjRmDJlCi5evIhNmzYJf6APyu+//47w8HBMmTIFfn5+MDU1xY4dO3Dt2jU8/fTTrS43duxYbN++HRMnTkR0dDTy8/Oxbt06+Pn5af3hjhgxAs899xw++eQT/PHHHxg9ejTUajV++eUXjBgxAvPmzWtR96OPPopdu3ZhzJgxeOqpp7Bz5867/mqcMmUKXnvtNbz22muwt7fHqFGjtObPnDkTt27dwsiRI+Hm5oZLly5h9erVGDhwIPr3799qve1ZLiIiAu7u7njppZcQGxsLExMTfP3113B0dERhYWGb7TYmxtbXd955B/v27UNYWBhmz56N/v37o7i4GFu3bsWhQ4dga2vbYhmxWIz169cjKioKAwYMwIsvvohHHnkEV69eRWpqKuRyOXbv3t3htgQHB+Pnn3/GBx98AFdXV3h6eiI0NPSuy3Xk++/v74/IyEi8+uqrkEql+OyzzwBAK/k8/fTTeP311zFx4kS8+uqrqK6uxtq1a9G3b1+t5GO0OuvsfVdRV1dHsbGxFBQURNbW1mRpaUlBQUH02WeftYh9//336ZFHHiGpVErDhg2jY8eOtToK687RVppRL7/99ptWuWY0xvXr19vV3hs3blBMTAz169ePLC0tycbGhkJDQ+mHH37QiruzXWq1mt555x3y8PAgqVRKgwYNosTERJ2jRBobG+m9996jfv36kUQiIUdHR4qKiqKsrCwhBgDFxMRoLbdr1y4yNTWlqVOnCiNn2jJs2DACQDNnzmwxb9u2bRQREUFOTk4kkUjI3d2dXn75ZSouLm6zzvYul5WVRaGhoULMBx980OoorDtHW7XWf82Iqvfee++ufb9zmTtHYekaDXXnyB1D9/VeRmFpXLp0iZ5//nlydHQkqVRKXl5eFBMTQ3V1dUTUchSWRnZ2Nk2aNIl69OhBUqmUPDw8aMqUKbR///4W/b/zb0VXX86dO0fDhw8nmUxGADo0Iqsj3/9NmzZRnz59hL+pO/tFRLRv3z7y9/cniURCvr6+tGnTpi4zCktEZIRnlhhjrAsTiUSIiYnBp59+2tlNua/4HAhjjDG98DmQLqSiouKuJ6FdXFweUGvYvaivr7/rSB4bGxvIZLIH1KKHm0qluusJeSsrqxZDhh92nEC6kPnz5991dAwfkewaDh8+jBEjRrQZs2HDBrzwwgsPpkEPucuXL8PT07PNmLi4OCxfvvzBNKiL4HMgXcjZs2dRVFTUZsydo5WYcSorK0NWVlabMQMGDEDPnj0fUIsebrW1tTh06FCbMV5eXvDy8npALeoaOIEwxhjTC59EZ4wxphc+B3IfqdVqFBUVwdraWu9bJzDGujYiQmVlJVxdXSEWd6/f7JxA7qOioqIWd2RljD2cLl++DDc3t85uhkFxArmPrK2tATR9ceRyeSe3hjHWGZRKJXr16iVsD7oTTiD3keawlVwu5wTC2EOuOx7G7l4H5BhjjD0wnEAYY4zphRMIY4wxvXACYYwxphc+id4F3Pn0s7i4OJ1ld8Y3L2OMMUPjBGIk1GrC0YJbuFJWAzc7GUJ620Ms1h61oSsh3Fmm61GbjDF2P3ACMRJHC27h2yOXIPt9N04D2KsjRteeBe9tMMY6C58DMQYiEQK9HVDfoIYlgGIAscuXA3e5zyXvfTDGOhMnkM7258VFMgAfTx+KagCuRHhPkxzUagBNyaJ5wtD8X/MvJw/G2IPGCcRIiABIAVio1QAR4u5ICCtWrNBKEpr/t3UIi5MKY+x+4gTS2f48TEVoSiJQqQCRCCs0CaGNu3fqGomlay+FMcbuB36g1H2kVCphY2ODioqKu94Lq1Ek0hrR0AjAlD8axrq8jmwHuhreAzEGIhFM7igy+bOcMcaMFSeQzvZnkhCh6TBWI5odzmo2nzHGjA0nECMiQtNhK04ZjLGugBNIZ2t+nkPzf11ljDFmZPhKdGOgK0lw4mCMGTneA2GMMaYXTiCMMcb0wgmEMcaYXjiBMMYY0wsnEMYYY3rhBMIYY0wvnEAYY4zphRMIY4wxvXACYYwxphejTiArV66ESCTCggULhLLa2lrExMSgR48esLKywuTJk3Ht2jWt5QoLCxEdHQ0LCws4OTkhNjYWjY2NWjFpaWkYPHgwpFIpfHx8kJCQ0GL9a9asQe/evWFubo7Q0FAcPXr0fnSTMca6JKNNIL/99hs+//xzBAYGapUvXLgQu3fvxtatW5Geno6ioiJMmjRJmK9SqRAdHY36+nocPnwYGzduREJCApYtWybE5OfnIzo6GiNGjEBOTg4WLFiAmTNnYu/evULMli1bsGjRIsTFxeH48eMICgpCZGQkSktL73/nGWOsKyAjVFlZSX369KGUlBQKCwuj+fPnExFReXk5mZmZ0datW4XY3NxcAkAZGRlERJSUlERisZhKSkqEmLVr15JcLqe6ujoiIlqyZAkNGDBAa51Tp06lyMhIYTokJIRiYmKEaZVKRa6urhQfH9/uflRUVBAAqqioaH/nGWPdSnfeDhjlHkhMTAyio6MxatQorfKsrCw0NDRolffr1w/u7u7IyMgAAGRkZCAgIADOzs5CTGRkJJRKJc6cOSPE3Fl3ZGSkUEd9fT2ysrK0YsRiMUaNGiXE6FJXVwelUqn1Yoyx7sro7sa7efNmHD9+HL/99luLeSUlJZBIJLC1tdUqd3Z2RklJiRDTPHlo5mvmtRWjVCpRU1ODsrIyqFQqnTHnzp1rte3x8fEtnlPOGGPdlVHtgVy+fBnz58/Ht99+C3Nz885uToctXboUFRUVwuvy5cud3STGGLtvjCqBZGVlobS0FIMHD4apqSlMTU2Rnp6OTz75BKampnB2dkZ9fT3Ky8u1lrt27RpcXFwAAC4uLi1GZWmm7xYjl8shk8ng4OAAExMTnTGaOnSRSqWQy+VaL8YY666MKoGEh4fj1KlTyMnJEV5DhgzBs88+K/zfzMwM+/fvF5Y5f/48CgsLoVAoAAAKhQKnTp3SGi2VkpICuVwOPz8/IaZ5HZoYTR0SiQTBwcFaMWq1Gvv37xdiGGPsodfZZ/HvpvkoLCKiOXPmkLu7Ox04cICOHTtGCoWCFAqFML+xsZH8/f0pIiKCcnJyKDk5mRwdHWnp0qVCTF5eHllYWFBsbCzl5ubSmjVryMTEhJKTk4WYzZs3k1QqpYSEBDp79izNnj2bbG1ttUZ33U13Hn3BGGuf7rwd6HIJpKamhubOnUt2dnZkYWFBEydOpOLiYq1lCgoKKCoqimQyGTk4ONDixYupoaFBKyY1NZUGDhxIEomEvLy8aMOGDS3WvXr1anJ3dyeJREIhISGUmZnZobZ35y8OY6x9uvN2QETED9++X5RKJWxsbFBRUcHnQxh7SHXn7YBRnQNhjDHWdXACYYwxphdOIIwxxvTCCYQxxpheOIEwxhjTCycQxhhjeuEEwhhjTC+cQBhjjOmFEwhjjDG9cAJhjDGmF04gjDHG9MIJhDHGmF44gTDGGNMLJxDGGGN64QTCGGNML5xAGGOM6YUTCGOMMb1wAmGMMaYXTiCMMcb0wgmEMcaYXjiBMMYY0wsnEMYYY3rhBMIYY0wvnEAYY4zphRMIY4wxvXACYYwxphdOIIwxxvTCCYQxxpheOIEwxhjTCycQxhhjeuEEwhhjTC+cQBhjjOmFEwhjjDG9GF0CWbt2LQIDAyGXyyGXy6FQKLBnzx5h/uOPPw6RSKT1mjNnjlYdhYWFiI6OhoWFBZycnBAbG4vGxkatmLS0NAwePBhSqRQ+Pj5ISEho0ZY1a9agd+/eMDc3R2hoKI4ePXpf+swYY12R0SUQNzc3rFy5EllZWTh27BhGjhyJ8ePH48yZM0LMrFmzUFxcLLxWrVolzFOpVIiOjkZ9fT0OHz6MjRs3IiEhAcuWLRNi8vPzER0djREjRiAnJwcLFizAzJkzsXfvXiFmy5YtWLRoEeLi4nD8+HEEBQUhMjISpaWlD+aNYIwxY0ddgJ2dHa1fv56IiMLCwmj+/PmtxiYlJZFYLKaSkhKhbO3atSSXy6muro6IiJYsWUIDBgzQWm7q1KkUGRkpTIeEhFBMTIwwrVKpyNXVleLj49vd7oqKCgJAFRUV7V6GMda9dOftgNHtgTSnUqmwefNmVFVVQaFQCOXffvstHBwc4O/vj6VLl6K6ulqYl5GRgYCAADg7OwtlkZGRUCqVwl5MRkYGRo0apbWuyMhIZGRkAADq6+uRlZWlFSMWizFq1CghhjHGHnamnd0AXU6dOgWFQoHa2lpYWVlhx44d8PPzAwA888wz8PDwgKurK06ePInXX38d58+fx/bt2wEAJSUlWskDgDBdUlLSZoxSqURNTQ3KysqgUql0xpw7d67VdtfV1aGurk6YViqVer4DjDFm/Iwygfj6+iInJwcVFRXYtm0bpk+fjvT0dPj5+WH27NlCXEBAAHr27Inw8HBcvHgR3t7endhqID4+HitWrOjUNjDG2INisENYV65caXVeZmZmh+qSSCTw8fFBcHAw4uPjERQUhI8//lhnbGhoKADgwoULAAAXFxdcu3ZNK0Yz7eLi0maMXC6HTCaDg4MDTExMdMZo6tBl6dKlqKioEF6XL1/uQK8ZY6xrMVgCiYiIwK1bt1qU//rrrxg9evQ91a1Wq7UODTWXk5MDAOjZsycAQKFQ4NSpU1qjpVJSUiCXy4XDYAqFAvv379eqJyUlRTjPIpFIEBwcrBWjVquxf/9+rXMxd5JKpcLwY82LMca6LUOdjX/xxRcpODiYlEqlUJaenk5yuZw++OCDdtfzxhtvUHp6OuXn59PJkyfpjTfeIJFIRPv27aMLFy7Q22+/TceOHaP8/HzatWsXeXl50fDhw4XlGxsbyd/fnyIiIignJ4eSk5PJ0dGRli5dKsTk5eWRhYUFxcbGUm5uLq1Zs4ZMTEwoOTlZiNm8eTNJpVJKSEigs2fP0uzZs8nW1lZrdNfddOfRF4yx9unO2wGDJRCVSkUTJ06ksLAwqq2tpQMHDpCVlRV99NFHHapnxowZ5OHhQRKJhBwdHSk8PJz27dtHRESFhYU0fPhwsre3J6lUSj4+PhQbG9vigykoKKCoqCiSyWTk4OBAixcvpoaGBq2Y1NRUGjhwIEkkEvLy8qINGza0aMvq1avJ3d2dJBIJhYSEUGZmZof60p2/OIyx9unO2wEREZGh9mbq6+sRHR2N6upqnDx5EvHx8Zg3b56hqu9ylEolbGxsUFFRwYezGHtIdeftwD0lkJMnT7Yoq6ysxLRp0xAdHY1XXnlFKA8MDNR3NV1Wd/7iMMbapztvB+4pgYjFYohEIjSvovm05v8ikQgqlereW9vFdOcvDmOsfbrzduCergPJz883VDsYY4x1MfeUQDw8PAzVDsYYY12Mwa4DiY+Px9dff92i/Ouvv8a7775rqNUwxhgzEgZLIJ9//jn69evXonzAgAFYt26doVbDGGPMSBgsgZSUlAhXgzfn6OiI4uJiQ62GMcaYkTBYAunVqxd+/fXXFuW//vorXF1dDbUaxhhjRsJgd+OdNWsWFixYgIaGBowcORIAsH//fixZsgSLFy821GoYY4wZCYMlkNjYWNy8eRNz585FfX09AMDc3Byvv/46li5daqjVMMYYMxIGvZUJANy+fRu5ubmQyWTo06cPpFKpIavvUrrzBUSMsfbpztsBgz9QysrKCkOHDjV0tYwxxoyMQRPIsWPH8MMPP6CwsFA4jKWheeQsY4yx7sFgo7A2b96Mv/zlL8jNzcWOHTvQ0NCAM2fO4MCBA7CxsTHUahhjjBkJgyWQd955Bx9++CF2794NiUSCjz/+GOfOncOUKVPg7u5uqNUwxhgzEgZLIBcvXkR0dDSApkfCVlVVQSQSYeHChfjiiy8MtRrGGGNGwmAJxM7ODpWVlQCARx55BKdPnwYAlJeXo7q62lCrYYwxZiQMdhJ9+PDhSElJQUBAAP72t79h/vz5OHDgAFJSUhAeHm6o1TDGGDMSBksgn376KWprawEA//znP2FmZobDhw9j8uTJePPNNw21GsYYY0bC4BcSsv/qzhcQMcbapztvB+5pD0SpVLY7tru9cYwx9rC7pwRia2sLkUjUZszD/Ex0xhjrzu4pgaSmphqqHYwxxrqYe0ogYWFhhmoHY4yxLsZg14EkJyfj0KFDwvSaNWswcOBAPPPMMygrKzPUahhjjBkJgyWQ2NhY4aT6qVOnsGjRIowZMwb5+flYtGiRoVbD2D25ffs2VqxYwYdfGTMAg10Hkp+fDz8/PwDAjz/+iHHjxuGdd97B8ePHMWbMGEOthj2k1GrC0YJbuFJWAzc7GUJ620MsbnsAhy47duyATCa7Dy1k7OFjsAQikUiEW5b8/PPPeP755wEA9vb2HRruy5guRwtu4dsjl1DfoIa56jb2b86AiVgEiUSCV199Fd999x2uXr0KkUiEJ598Eo6OjkhISIBKpYK5uTkWLFgApVKJmzdvwsnJqbO7w1i3YLAE8thjj2HRokUYNmwYjh49ii1btgAAfv/9d7i5uRlqNexhdPs2KjOPob6xB/r1lOPc1UYMcR+IyAl/xbpNm/Djjz/i+vXreP311yEWi6FWq/Hll18iKCgIERERUKvVAJr2PoYNG4YzZ850cocY6x4Mdg7k008/hampKbZt24a1a9fikUceAQDs2bMHo0ePNtRq2MPm9m2gTx+ETx+LvvmncK5YCe9LJ3AqZz9WvvMOrl+/DplMhp49e0Isbvo6i8ViKJVKDB48WJiuqKjAzZs3+WmZjBmQwfZA3N3dkZiY2KL8ww8/1JpeuXIl5syZA1tbW0OtmnVnFy4AN25A3NiIhf9vNnbOeB21VfmQVVdjYmIi1q5ahZqaGhQXF0OtVgt7IHK5HNnZ2XjiiSegVqtx8eJF1NbWYtWqVairq8PVq1fh7e3Nz6ph7B488HthyeVy5OTkwMvL60GutlN053vgPFAZGVAPHw5xYyMA4PSAAdg5cSJkFhYQm5vD29sb5eXluHLlCkxMTDBu3Did50A0EhIS4OHhgREjRnRSh9jDpDtvBx54ArG2tsaJEyc4gbAOOf7GOxj87j//O/36vzB45T86sUWMtU933g4Y7BwIY/dNRgYGvh+nVTTw/TggI6OTGsQYA4wwgaxduxaBgYGQy+WQy+VQKBTYs2ePML+2thYxMTHo0aMHrKysMHnyZFy7dk2rjsLCQkRHR8PCwgJOTk6IjY1F45+HPzTS0tIwePBgSKVS+Pj4ICEhoUVb1qxZg969e8Pc3ByhoaE4evTofekza0NODvDn4Su1qSmOv/4vqE1Nmw5nDR/eNJ8x1imMLoG4ublh5cqVyMrKwrFjxzBy5EiMHz9eGHq5cOFC7N69G1u3bkV6ejqKioowadIkYXmVSoXo6GjU19fj8OHD2LhxIxISErBs2TIhJj8/H9HR0RgxYgRycnKwYMECzJw5E3v37hVitmzZgkWLFiEuLg7Hjx9HUFAQIiMjUVpa+uDeDAb4+AAODoCpKcQHD2Lwyn9AfPAgYGraVO7j09ktZOzhRQ+YlZUVXbx4sUPL2NnZ0fr166m8vJzMzMxo69atwrzc3FwCQBkZGURElJSURGKxmEpKSoSYtWvXklwup7q6OiIiWrJkCQ0YMEBrHVOnTqXIyEhhOiQkhGJiYoRplUpFrq6uFB8f3+52V1RUEACqqKjoUH/ZHSoribKztcuys5vKGTNy3Xk78MD3QP7617+2+1YSKpUKmzdvRlVVFRQKBbKystDQ0IBRo0YJMf369YO7uzsy/jwenpGRgYCAADg7OwsxkZGRUCqVwl5MRkaGVh2aGE0d9fX1yMrK0ooRi8UYNWqUEKNLXV0dlEql1osZgJUVMHCgdtnAgU3ljLFOY7DrQDRKS0tRWloqXP2rERgYCABISkq6ax2nTp2CQqFAbW0trKyssGPHDvj5+SEnJwcSiaTFNSTOzs4oKSkBAJSUlGglD818zby2YpRKJWpqalBWVgaVSqUz5ty5c622Oz4+HitWrLhr/xhjrDswWALJysrC9OnTkZubC/pzZLBIJNLriYS+vr7IyclBRUUFtm3bhunTpyM9Pd1QTb1vli5dqnXnYaVSiV69enViixhj7P4xWAKZMWMG+vbti6+++grOzs53fdRtWyQSCXz+PDkaHByM3377DR9//DGmTp2K+vp6lJeXa+2FXLt2DS4uLgAAFxeXFqOlNKO0msfcOXLr2rVrkMvlkMlkMDExgYmJic4YTR26SKVSSKVS/TrNGGNdjMHOgeTl5WHVqlUIDQ1F79694eHhofW6F2q1GnV1dQgODoaZmRn2798vzDt//jwKCwuhUCgAAAqFAqdOndIaLZWSkgK5XC7cbl6hUGjVoYnR1CGRSBAcHKwVo1arsX//fiGGMcYeeoY6Gz9+/Hjatm3bPdfzxhtvUHp6OuXn59PJkyfpjTfeIJFIRPv27SMiojlz5pC7uzsdOHCAjh07RgqFghQKhbB8Y2Mj+fv7U0REBOXk5FBycjI5OjrS0qVLhZi8vDyysLCg2NhYys3NpTVr1pCJiQklJycLMZs3byapVEoJCQl09uxZmj17Ntna2mqN7rqb7jz6gjHWPt15O2CwBHL9+nUaM2YMLV++nLZt20a7du3SerXXjBkzyMPDgyQSCTk6OlJ4eLiQPIiIampqaO7cuWRnZ0cWFhY0ceJEKi4u1qqjoKCAoqKiSCaTkYODAy1evJgaGhq0YlJTU2ngwIEkkUjIy8uLNmzY0KItq1evJnd3d5JIJBQSEkKZmZkdek+68xeHMdY+3Xk7YLB7Ye3evRvPPfeczqGrHT2J3l1053vgMMbapztvBwx2DuR//ud/8Pe//124rXbz18OYPBhjrLszWAK5efMmFi5c2OLaCcYYY92TwRLIpEmTkJqaaqjqGGOMGTmDXQfSt29fLF26FIcOHUJAQADMzMy05r/66quGWhVjjDEjYLCT6J6enq2vRCRCXl6eIVbTpXTnk2eMsfbpztsBg+2B5OfnG6oqxhhjXYDRPQ+EMcZY12DQe2G15euvvzbUqhhjjBkBgyWQsrIyremGhgacPn0a5eXlGDlypKFWwxhjzEgYLIHs2LGjRZlarcYrr7wCb29vQ62GMcaYkbiv50DEYjEWLVqEDz/88H6uhjHGWCe47yfRL168iMbGxvu9GsYYYw+YwQ5hNX8SHwAQEYqLi/HTTz9h+vTphloNY4wxI2GwBJKdna01LRaL4ejoiPfff/+uI7QYY4x1PQZLID/99BOICJaWlgCAgoIC7Ny5Ex4eHjA1NdhqGGOMGQmDnQOZMGEC/u///g8AUF5ejkcffRTvv/8+JkyYgLVr1xpqNYwxxoyEwRLI8ePH8de//hUAsG3bNjg7O+PSpUv45ptv8MknnxhqNYwxxoyEwRJIdXU1rK2tAQD79u3DpEmTIBaL8eijj+LSpUuGWg1jjDEjYbAE4uPjg507d+Ly5cvYu3cvIiIiAAClpaXd7g6UjDHGDJhAli1bhtdeew29e/dGaGgoFAoFgKa9kUGDBhlqNYwxxoyEwZ4HAgAlJSUoLi5GUFAQxOKm3HT06FHI5XL069fPUKvpMrrzcwAYY+3TnbcDBh1f6+LiAhcXF62ykJAQQ66CMcaYkeDngTDGGNMLJxDGGGN64QTCGGNML5xAGGOM6YUTCGOMMb1wAmGMMaYXTiCMMcb0wgmEMcaYXjiBMMYY0wsnEMYYY3rhBMIYY0wvnEAYY4zpxegSSHx8PIYOHQpra2s4OTlhwoQJOH/+vFbM448/DpFIpPWaM2eOVkxhYSGio6NhYWEBJycnxMbGorGxUSsmLS0NgwcPhlQqhY+PDxISElq0Z82aNejduzfMzc0RGhqKo0ePGrzPjDHWFRldAklPT0dMTAwyMzORkpKChoYGREREoKqqSitu1qxZKC4uFl6rVq0S5qlUKkRHR6O+vh6HDx/Gxo0bkZCQgGXLlgkx+fn5iI6OxogRI5CTk4MFCxZg5syZ2Lt3rxCzZcsWLFq0CHFxcTh+/DiCgoIQGRmJ0tLS+/9GMMaYsSMjV1paSgAoPT1dKAsLC6P58+e3ukxSUhKJxWIqKSkRytauXUtyuZzq6uqIiGjJkiU0YMAAreWmTp1KkZGRwnRISAjFxMQI0yqVilxdXSk+Pr5dba+oqCAAVFFR0a54xlj30523A0a3B3KniooKAIC9vb1W+bfffgsHBwf4+/tj6dKlqK6uFuZlZGQgICAAzs7OQllkZCSUSiXOnDkjxIwaNUqrzsjISGRkZAAA6uvrkZWVpRUjFosxatQoIeZOdXV1UCqVWi/GGOuuDPpAKUNTq9VYsGABhg0bBn9/f6H8mWeegYeHB1xdXXHy5Em8/vrrOH/+PLZv3w6g6cmIzZMHAGG6pKSkzRilUomamhqUlZVBpVLpjDl37pzO9sbHx2PFihX31mnGGOsijDqBxMTE4PTp0zh06JBW+ezZs4X/BwQEoGfPnggPD8fFixfh7e39oJspWLp0KRYtWiRMK5VK9OrVq9Pawxhj95PRJpB58+YhMTERBw8ehJubW5uxoaGhAIALFy7A29sbLi4uLUZLXbt2DQCER+66uLgIZc1j5HI5ZDIZTExMYGJiojPmzsf2akilUkil0vZ3kjHGujCjOwdCRJg3bx527NiBAwcOwNPT867L5OTkAAB69uwJAFAoFDh16pTWaKmUlBTI5XL4+fkJMfv379eqJyUlBQqFAgAgkUgQHBysFaNWq7F//34hhjHGHmqdfRb/Tq+88grZ2NhQWloaFRcXC6/q6moiIrpw4QK9/fbbdOzYMcrPz6ddu3aRl5cXDR8+XKijsbGR/P39KSIignJycig5OZkcHR1p6dKlQkxeXh5ZWFhQbGws5ebm0po1a8jExISSk5OFmM2bN5NUKqWEhAQ6e/YszZ49m2xtbbVGd7WlO4++YIy1T3feDhhdAgGg87VhwwYiIiosLKThw4eTvb09SaVS8vHxodjY2BYfTkFBAUVFRZFMJiMHBwdavHgxNTQ0aMWkpqbSwIEDSSKRkJeXl7CO5lavXk3u7u4kkUgoJCSEMjMz292X7vzFYYy1T3feDoiIiDpr76e7UyqVsLGxQUVFBeRyeWc3hzHWCbrzdsDozoEwxhjrGjiBMMYY0wsnEMYYY3rhBMIYY0wvnEAYY4zphRMIY4wxvXACYYwxphdOIIwxxvTCCYQxxpheOIEwxhjTCycQxhhjeuEEwhhjTC+cQBhjjOmFEwhjjDG9cAJhjDGmF04gjDHG9MIJhDHGmF44gTDGGNMLJxDGGGN64QTCGGNML5xAGGOM6YUTCGOMMb1wAmGMMaYXTiCMMcb0wgmEMcaYXjiBMMYY0wsnEMYYM4Dr16/jtddeg6+vL2QyGezt7TF48GC8+eabWnGPP/44RCIRCgoK2l338uXLIRKJkJCQcE9t/OOPPyCTySASiTBq1Kh7qgsATO+5BsYYe8hlZWUhMjISN2/exIABAzB+/HgolUqcPXsWn332WWc3TzB79mzU1dUZrD7eA2GMsXtw/fp1jB49GjU1Ndi1axdOnz6NzZs3IykpCQUFBUhJSensJgIAvvrqK6SlpWHWrFkGq5MTCGOM3YO4uDjcuHED7733Hp588skW84ODgzuhVdquXbuG2NhYPPHEE5g2bZrB6uUEwhhjeqqpqcGmTZtgaWmJF198scPLb9q0CcHBwbCwsICTkxOmT5+Oq1evtrnMkSNHEBkZCVtbW8jlcjzxxBPIzMxsc5n58+ejpqbG4IfTOIEwxpiejh07hsrKSgwaNAgymQx79uzBokWLMHfuXHz00UcoKipqddl///vfeP7552FlZYXx48fD0tIS33zzDR599FFcuXJF5zKHDx/G8OHDceXKFURFRcHX1xc///wzwsLCsG/fPp3LJCUlYcuWLfjHP/4BHx8fg/RbQOy+qaioIABUUVHR2U1hjN0H69atIwA0adIkGj9+PAHQeslkMvrqq6+0tgNhYWEEgExNTemnn34S6qqvr6dnn32WAND48eO11hMXFyfU+c9//pPUarUw77PPPiMA1LNnT6qurtZa7vbt2+Th4UG+vr5UV1dHRESpqakEgMLDw++5/0a3BxIfH4+hQ4fC2toaTk5OmDBhAs6fP68VU1tbi5iYGPTo0QNWVlaYPHkyrl27phVTWFiI6OhoYdcwNjYWjY2NWjFpaWkYPHgwpFIpfHx8dA6RW7NmDXr37g1zc3OEhobi6NGjBu8zY6xrKisrAwD85z//QXJyMtasWYPS0lIUFBTgtddeQ01NDebMmaNz2SlTpmDMmDHCtJmZGT7++GNYWFjgP//5Dy5fvtxiGQ8PD2FIr8Yrr7yC0NBQFBcX48cff9SKf/PNN3Hp0iWsW7cOEonEEF3WYnQJJD09HTExMcjMzERKSgoaGhoQERGBqqoqIWbhwoXYvXs3tm7divT0dBQVFWHSpEnCfJVKhejoaNTX1+Pw4cPYuHEjEhISsGzZMiEmPz8f0dHRGDFiBHJycrBgwQLMnDkTe/fuFWK2bNmCRYsWIS4uDsePH0dQUBAiIyNRWlr6YN4MxphRU6vVAIDGxka8/fbbmDt3LhwdHeHh4YH33nsPf/vb39DQ0KBz2aeffrpFWY8ePRAREQEiwqFDh1rMnzx5MkxNW159oTkx/ssvvwhlx44dwyeffILnn38ejz/+uD7du7t73oe5z0pLSwkApaenExFReXk5mZmZ0datW4WY3NxcAkAZGRlERJSUlERisZhKSkqEmLVr15JcLhd245YsWUIDBgzQWtfUqVMpMjJSmA4JCaGYmBhhWqVSkaurK8XHx7er7XwIi7HubfTo0cKhpdjYWFq+fLnW/KSkJAJA1tbWLQ5hnThxgpYvXy68NBYsWEAA6N///rdQpjmE9fHHH+tsx86dOwkAjR07loiIGhoaaODAgWRvb0+lpaVasd36ENadKioqAAD29vYAmi7YaWho0LqKsl+/fnB3d0dGRgYAICMjAwEBAXB2dhZiIiMjoVQqcebMGSHmzisxIyMjhTrq6+uRlZWlFSMWizFq1CghhjH28FqxYgVsbW0BABYWFli1alWLmN69ewOA1hGUB+HKlSvIycmBRCLB3/72Nzz++OPCa8GCBQCatqWaMn0Z9ZXoarUaCxYswLBhw+Dv7w8AKCkpgUQiET44DWdnZ5SUlAgxzZOHZr5mXlsxSqUSNTU1KCsrg0ql0hlz7tw5ne2tq6vTuspTqVR2sMeMMWNWWXsb8netAQDLsRwuLi4AgOrqarz11lswNTXFihUrhHjND1CJRIIPP/wQAIRbmKxcuRK+vr4t1nHp0iUAgKura6vz2rtMSUmJsM27U3l5OdLT03V3tJ2Meg8kJiZGuKqzK4iPj4eNjY3w6tWrV2c3iTFmKCIRauXWwqQagK2NDZz//DGr695WmvOuPXv2xMKFC7XmaY6GNHfr1i3s27cPIpEIw4YNazF/+/btUKlULco128jHHnsMQNOeDxHpfKWmpgIAwsPDhTJ9GW0CmTdvHhITE5Gamgo3Nzeh3MXFBfX19SgvL9eKv3btmvBrwMXFpcWoLM303WLkcjlkMhkcHBxgYmKiM0ZTx52WLl2KiooK4aVrFAVjrAv6c9STrFmR+M8N+Qd/bov27duHyspKxMXFIS4uDsXFxcLh7sGDB7eo8vTp03j00UeF6cbGRixcuBBVVVUYO3Ys3N3dWyxTUFCgtYcDAF988QUyMjLg7OyMyZMn30svO8zoEggRYd68edixYwcOHDgAT09PrfnBwcEwMzPD/v37hbLz58+jsLAQCoUCAKBQKHDq1Cmt0VIpKSmQy+Xw8/MTYprXoYnR1CGRSBAcHKwVo1arsX//fiHmTlKpFHK5XOvFGOvaquqrUGUGVJkB1c1HwtbUAAD+MAOCAgNRWlqKNWvWoG/fvvD09MT69etRU1ODwYMHC4fgmwsODsbo0aOxYcMGbNu2DX379sU333wDV1dXfPrppzrbMmvWLKxcuRL+/v545plnEBISgpdffhlmZmZISEiAhYXF/XgLWmV0CSQmJgabNm3Cd999B2tra+EYXs2fH5aNjQ1eeuklLFq0CKmpqcjKysKLL74IhUIhZPOIiAj4+fnhueeew4kTJ7B37168+eabiImJgVQqBQDMmTMHeXl5WLJkCc6dO4fPPvsMP/zwg9Zu5qJFi/Dll19i48aNyM3NxSuvvIKqqiq9blnAGOuarOKtYPVPwOqfgHPsf8uXW/0bahGB/hmH8RMnYNy4cbCzs0NBQQGuXr2Knj17IiEhQbg/luYciMYPP/yADRs2oK6uDufOnYNSqcRzzz2HI0eO6Nz7AIC//OUvSE9Ph4uLCxITE5Gbm4vw8HCkpaVh9OjR9+09aNU9j+MyMNxxJafmtWHDBiGmpqaG5s6dS3Z2dmRhYUETJ06k4uJirXoKCgooKiqKZDIZOTg40OLFi6mhoUErJjU1lQYOHEgSiYS8vLy01qGxevVqcnd3J4lEQiEhIZSZmdnuvvAwXsa6PixHu16t6c7bARHRPZxBYW1SKpWwsbFBRUUFH85irIuqqv9zCK6VFW5LAJc/90KuvQdY1AMiALh9G5YSS53Ld+ftgFEP42WMsc5mKbEUTqI3Z1EPWGkuMpdaAQ/hb3FOIAby0UcfwdTUFHPnzoVY3HRq6dtvvxUuJGpLZmYm/P39YWVlZZC2pKam4pdffsGrr77a4nqZB+Ho0aMoKirChAkT7vu6ysvLceHCBQwZMqRDy507dw5WVlZaI/w6IicnB25ubnBwcOjwsmlpaXjsscd03pICaLoILDExEQ0NDZDL5Zg4cWK7frlqvoOmpqZQqVRwcXHBuHHj9L4H0r30UR9XrlzB7t27IRaLER4eLty2vCPrr6ysxLZt2x7IecqWKeXhY3Qn0bsylUqF48ePd3i5zMxM3L592yBtICKcOHECvXv3Rk5OjkHqNGbl5eU4duxYh5c7d+5cq7fMvhu1Wo2cnBzcuHFDr+XT09Nb3NhTg4iwfft2REZG4n/+53/Qp08frfuz3c1TTz2FOXPmYO7cuairq7un78C99FHf9fn7++Pll1+Gj48Pnn322Q4nL2tr6/uTPJrtXYg1m83mf7MP4d4HwHsgBhUWFoYDBw4gKCgIZmZmWvOqqqqQmJiIW7dugYgQEhKCIUOGID09XfjVZGpqigkTJsDR0RGpqanIz8+HSqVCjx49MHbsWMhkslbW/F8XL16EpaUlnnjiCWzZsgVhYWEQiUSoqqrCl19+iaeeegpubm44e/YsDh48iJdeeglqtRp79+7FtWvX0NjYCDc3N4wZMwYmJiY4ePAgTp06BRMTEwBNN4C7c6+mrq4Ou3fvRklJCSwsLODo6CjMU6vV+Pnnn3HhwgUATRc4RUZGCvVplJeXY926dQgNDcUff/yB2tpaREVFoU+fPgCACxcuYP/+/VCr1ZDJZIiOjoajoyMSExNRUVGBdevWwcbGpsXT1q5cuYKkpCSo1Wqo1WoMHToUtra2OH/+PPLy8pCTk4OQkBD07dsXP/74I+rq6tDY2IjevXsjKioKIpEIOTk5OHHiBGQyGW7evAk/Pz8UFRVh7969SEtLQ3h4uNBOjX379uHSpUtQqVSQSqUYN24cHBwckJiYCADYsGEDRCIRnnvuOVha/vfYeVFREcRisTB8PTg4GAcOHEBjY2Oreyy6qFQqNDQ0aH1nDh8+jDNnzkCtVsPS0hJjx44V3osDBw5AJBJBrVZj5MiRqK6uvmsfr1+/jr1796KyshIAMHToUAwZMgS3bt1CYmIiqqqqIBKJ8Pjjj6Nfv34Amm7/MXLkSJw7dw7V1dUYPnw4Bg0ahEOHDuHMmTMwMzPDmTNn8MILL2DdunV4+umn4eLighs3bmDXrl2oq6tDjx49UF9fj4CAAAwcOFDn9+iNN95oc3263q/k5GTk5eVBJpOhV69eKC4uxgsvvICCggIkJSXhkZ07UVxcjJN//StcXFywa9suVH3xBRobGxF89ChCQkIAAFevXsXPP/+Muro6EJHwRMKKigp89tlnrX7HuyJOIAbk4uICT09PZGRkYPjw4Vrz9uzZgx49emDq1KmoqqrCF198ARcXF4SFhSE7OxtPPfWUcIHiL7/8AjMzM+HZxenp6Thw4ACio6Nx/vx5nD9/XuejMwEgOzsbgwYNQs+ePSGTyZCXlwdvb29YWlpi4sSJ2L59OyZPnozk5GRMnz4dZmZm2L17Nzw8PPDkk0+CiLB7925kZmZi8ODBOHz4MBYvXgwzMzM0NDRo3UZaIz09HSYmJoiJiUFdXR2++uorPPLIIwCa7rdTVFSE2bNnQywW4/vvv0dGRoZwxWxzdXV1cHZ2xogRI3DhwgUkJyejT58+qKqqwvbt2zF9+nQ4Ozvj5MmT+OGHHzB37lyMHTsWycnJrd4y+9ChQ1AoFAgICADQ9AQ5mUwGX19fuLi4CEO/GxsbMW3aNEgkEqjVamzevBlnzpwRxu9fuXIFL7/8svCLOD8/H48++qiwYbzTsGHDEBERAaDpgrHk5GT8/e9/x9ixY4Wh5+bm5i2Wq6io0ErQUqkUUqkUlZWVsLOz07mu5jQ/RMrLy+Hq6ooBAwYAAE6dOoUbN27gpZdeglgsxokTJ5CUlIRnnnkGqampGDt2LHr16gUiQl1dHczNzXHy5MlW+6h5jx5//HHhva2urgbQdLX0wIEDMWTIENy8eRNfffUVXFxchH6ZmJhg1qxZuHHjBr788ksEBQXhsccew40bN7Q+k+Z27NiBIUOGYNCgQbh+/To+//xzYb13o2t9msPMGllZWbh16xbmzp0LAPjuu++05l+/fh1jxozB+PHjoVarsX79ekyaNAkODg5oaGjA+vXr8cgjj6BHjx5ITEzEM888A2tra1RXV2PdunWwtm66gr2173hXxQnEwEaMGIEvv/yyxTH5vLw8zJ49GwBgaWmJfv36IS8vT+cx+HPnzqGurg65ubkAmn4daf74fH19dd4/B2j6A7548SLGjRsHABg0aBCys7Ph7e0NoOlZAoMGDcJXX32FiRMnokePHsL6rly5Ilw129jYCJFIBKlUih49emDHjh3w8vJC3759dR6Lz8/PR2RkJEQiEczNzeHv7y88JyE/Px8DBw4Ufj0PHjwYv/32m84EYmpqiv79+wMA3NzccOvWLQBNG28nJyfhvmSBgYFISkoSfvm2pXfv3jh48CBu3boFT0/PVsfXExFSUlJw+fJlEBGqqqrg5OQkJJBevXp16HBKXl4ejh49KvwK1VzHdL9pfoio1Wrs3r0bKSkpiIyMxLlz51BUVIQvvvgCALRuX+Hp6Ynk5GT4+fnB29u71TstNHfjxg00NjZqbcQtLCxQV1eH4uJizJgxA0DT7cnd3d1RWFgofIcDAwMBAA4ODhCLxbh9+3ab53jq6upQUlKCoKAgAICjo2Orn6Mu7Vlffn4+AgIChD3joKAgrcPRdnZ2wvnMmzdv4vr169i2bZswv76+HtevX0d1dTXKysrw7bffatWv+e609h3vqjiBGJitrS0CAgJw8ODBNuN0/ZJvLioqStjwt9fJkyehVquxbt06AE0bierqalRXVwtXqJaUlMDS0lK4y7HGlClThITS3EsvvYTLly+joKAA69evx+TJk+Hh4dFmO9rqW1vzTExMhPlisfie7tGj8eijj8LX1xd5eXnYv38/nJycEB0d3SIuIyMD1dXVmDlzJkxNTbF3716t8xQdORFdUVGBpKQkzJo1C/b29rh27Ro2bNjQrmVtbGy0btOjuUGn5hdse4nFYvj5+SElJUUoe+yxx4TDKc1pnnFTUFCAnTt3IiAgQOd9mAyl+aE4zWGzjrrb34+h19f88yciyGQynXu9v//+OxwdHfHSSy8JZUqlEosXLwZwf77jnYlPot8Hw4cPx6lTp7Ru4ezl5YWsrCwATedDcnNz4eXlBaDpMEVtba0Q6+vri8zMTOFBNA0NDe16iFV2djamTJmCBQsWYMGCBVi4cCF8fX1x8uRJAE2jozRPSMvKykJhYaGwvkOHDgl/WDU1Nbh16xbq6upQVVUFDw8PhIWFwd3dXeedPb28vJCTkyMc/jh9+rQwz9PTEydOnIBKpYJarcbx48c7nBjd3NxQWloqvAenT5+GXC6HtbU1pFKp1h2Q73Tjxg3Y2dkhODgYf/3rX4UT53e+5zU1NbC0tISpqSlu376Ns2fPttmmO5dvrra2FiYmJrC2tgYRtXiKpUQiaXVZV1dXqNVq5OfnA2g6tNK3b98Onf/QyM/PF34U+Pr64tixY8KekEqlQnFxMYCm98jJyUk4L9fae9Scg4MDzMzMcOrUKaGsuroaUqkUPXv2RHZ2NoCmmwMWFhbe9UdHW6RSqXDoUtNezXfXUDw9PXH69GmoVCqoVCphXbo4ODhAKpUKfQSa+llTU4NevXqhvLwceXl5wrzS0tIW5/y6C94DuQ8sLCwQEhKCtLQ0AE2/QIYNG4YDBw4I97gZOnQo5HI5lEolAgMDsWvXLpiZmSEiIgKBgYGorq7G559/LvxaGTJkCMzNzXHx4kXk5eXhiSee0FpnSUkJbt++DQcHB63byHt7e+Pw4cPo0aMHfv31Vzz99NNQqVSIjIzEjz/+iGeeeQZ/+ctfcOjQIXz22WcQiUQQi8V47LHHYG9vLwwnFYlEsLW1hZeXV4vb1A8aNAgpKSlYvXo1ZDIZXFxc0NDQAKVSiT59+uDatWtYu3YtgKZk4Ofn16IOzeEoTXl9fb3W9OjRo/Hjjz9CrVZDKpUiKioKlZWVkMlksLOzw6effgobGxuMHz9eq95ff/0VhYWFwi+/4cOHQ6lUwtvbG3v37sXZs2cRFBSEAQMGIDExEatXrxaG99bX1wu3929sbNRqc//+/XHw4EEcPnwYw4YN07pnm0wmQ58+ffDpp5/C3NwcPj4+Wn0ZPHgwNm7cCDMzM0yaNKnF/YsiIiKQlJSExsZGWFlZYfTo0cKyO3bsgEKh0HmYiYjwww8/wNTUFGq1GnK5HOHh4VAqlejduzfKysrw9ddfA2g6h+Hv7w9LS0vs3bsXt27dgomJCUxNTYVl2uojAIwdOxapqalIT0+HSCRCUFAQAgMDERERgZ9//hmZmZkQiUQYNWoURCKR0AelUil8vkSEyspKiMViNDQ0oLa2VogjIty+fRtKpRJPPPEE9u3bh0OHDsHW1hbOzs5Qq9V3/R61tb7m+vTpgytXruDTTz8VElZVVRWUSiWqqqparGvcuHFIS0vD4cOHhYEdY8aMgZWVFZ588kmkpaVhz549wjyRSNTl9zZ04SvR76MrV67wLd0ZMwCJRCIkAVtbW8ycORNffPGFQZ+5o1mHWCzG5MmTUVRUhF9//dVg9V++fFnv646MFSeQ+0itVqOoqAjW1tYdOmZrLJRKJXr16oXLly93m1swdLc+PSz9uXTpknBeUTMMvrURcPr6/vvvoVKp0NjYiEceeQQjRozQ69Bhc5r+nD17Fr6+vi32fLo6TiCsVd3xHj7drU/cH+PW3fpzp+6VDhljjD0wnEAYY4zphRMIa5VUKkVcXJzwEK7uoLv1iftj3Lpbf+7E50AYY4zphfdAGGOM6YUTCGOMMb1wAmGMMaYXTiAPoYMHD2LcuHFwdXWFSCTCzp07teYTEZYtWybcEn7UqFH4448/tGJu3bqFZ599FnK5HLa2tnjppZcM9lCsjrpbf1544QWIRCKt1+jRo7VijKU/8fHxGDp0KKytreHk5IQJEybg/PnzWjG1tbWIiYlBjx49YGVlhcmTJ+PatWtaMYWFhYiOjoaFhQWcnJwQGxvb6kOs7rf29Onxxx9v8RndebNCY+nT2rVrERgYCLlcDrlcDoVCgT179gjzu9rncy84gTyEqqqqEBQUhDVr1uicv2rVKnzyySdYt24djhw5AktLS0RGRmrdWO/ZZ5/FmTNnkJKSgsTERBw8eFC4Xf2Ddrf+AE330iouLhZe33//vdZ8Y+lPeno6YmJikJmZiZSUFDQ0NCAiIkLrxpwLFy7E7t27sXXrVqSnp6OoqAiTJk0S5qtUKkRHR6O+vh6HDx/Gxo0bkZCQgGXLlj3w/gDt6xMAzJo1S+szWrVqlTDPmPrk5uaGlStXIisrC8eOHcPIkSMxfvx4nDlzBkDX+3zuCbGHGgDasWOHMK1Wq8nFxYXee+89oay8vJykUil9//33RER09uxZAkC//fabELNnzx4SiUR09erVB9Z2Xe7sDxHR9OnTafz48a0uY8z9KS0tJQCUnp5ORE2fhZmZGW3dulWIyc3NJQCUkZFBRERJSUkkFouppKREiFm7di3J5XKqq6t7sB3Q4c4+ERGFhYXR/PnzW13G2PtkZ2dH69ev7xafT0fwHgjTkp+fj5KSEowaNUoos7GxQWhoqPDAqYyMDNja2mo9NGvUqFEQi8U4cuTIA29ze6SlpcHJyQm+vr545ZVXcPPmTWGeMfdH89wWe3t7AE23d29oaND6fPr16wd3d3etzycgIEB4ABfQ9MwPpVIp/EruTHf2SePbb7+Fg4MD/P39sXTpUuEJh4Dx9kmlUmHz5s2oqqqCQqHoFp9PR/Dt3JkWzfM+mn+5NdOaeSUlJXByctKab2pqCnt7e53PC+lso0ePxqRJk+Dp6YmLFy/iH//4B6KiopCRkQETExOj7Y9arcaCBQswbNgw4cmIJSUlkEgkLZ5Lf+fno+vz08zrTLr6BADPPPMMPDw84OrqipMnT+L111/H+fPnsX37dgDG16dTp05BoVCgtrYWVlZW2LFjB/z8/JCTk9OlP5+O4gTCur2nn35a+H9AQAACAwPh7e2NtLQ0hIeHd2LL2hYTE4PTp0/j0KFDnd0Ug2mtT83PNwUEBKBnz54IDw/HxYsXO/wAsgfB19cXOTk5qKiowLZt2zB9+nSkp6d3drMeOD6ExbRoHlR056iRa9euCfNcXFxaPCGxsbERt27datfztDubl5cXHBwccOHCBQDG2Z958+YhMTERqampWs+QcHFxQX19vdZjb4GWn4+uz08zr7O01iddQkNDAUDrMzKmPkkkEvj4+CA4OBjx8fEICgrCxx9/3KU/H31wAmFaPD094eLigv379wtlSqUSR44cgUKhAAAoFAqUl5cLj+gFgAMHDkCtVgt/+MbsypUruHnzJnr27AnAuPpDRJg3bx527NiBAwcOtHgKYHBwMMzMzLQ+n/Pnz6OwsFDr8zl16pRWUkxJSYFcLoefn9+D6Ugzd+uTLjk5OQCg9RkZU5/upFarUVdX1yU/n3vS2Wfx2YNXWVlJ2dnZlJ2dTQDogw8+oOzsbLp06RIREa1cuZJsbW1p165ddPLkSRo/fjx5enpSTU2NUMfo0aNp0KBBdOTIETp06BD16dOHpk2bZnT9qayspNdee40yMjIoPz+ffv75Zxo8eDD16dOHamtrja4/r7zyCtnY2FBaWhoVFxcLr+rqaiFmzpw55O7uTgcOHKBjx46RQqEghUIhzG9sbCR/f3+KiIignJwcSk5OJkdHR1q6dOkD7w/R3ft04cIFevvtt+nYsWOUn59Pu3btIi8vLxo+fLhR9umNN96g9PR0ys/Pp5MnT9Ibb7xBIpGI9u3bR0Rd7/O5F5xAHkKpqakEoMVr+vTpRNQ0lPett94iZ2dnkkqlFB4eTufPn9eq4+bNmzRt2jSysrIiuVxOL774IlVWVnZCb9ruT3V1NUVERJCjoyOZmZmRh4cHzZo1S2sIpTH1R1c/ANCGDRuEmJqaGpo7dy7Z2dmRhYUFTZw4kYqLi7XqKSgooKioKJLJZOTg4ECLFy+mhoaGB9ybJnfrU2FhIQ0fPpzs7e1JKpWSj48PxcbGUkVFhVY9xtKnGTNmkIeHB0kkEnJ0dKTw8HAheRB1vc/nXvDdeBljjOmFz4EwxhjTCycQxhhjeuEEwhhjTC+cQBhjjOmFEwhjjDG9cAJhjDGmF04gjDHG9MIJhDHGmF44gbBuJyEhocXttO+36upqTJ48GXK5HCKRCOXl5TrLevfujY8++qhddXZGPxjrCL4SnXU7NTU1qKysbPGMj/tp7dq1iIuLw4EDB+Dg4ABnZ2esW7euRdmNGzdgaWkJCwuLu9Z5P/qRlpaGESNGoKysjJMTu2f8PBDW7chkMshksge6zosXL6J///5aD0nSVebo6NjuOjujH4x1SOfeiot1F1u3biV/f38yNzcne3t7Cg8Pp9u3b+t81vX48eOFGzcSEXl4eND/+3//j5577jmytLQkd3d32rVrF5WWltKTTz5JlpaWFBAQoPXM8rZs2LCBbGxshOm4uDgKCgqib775hjw8PEgul9PUqVNJqVTetf1Eup/X3bwPYWFhWjcJDAsL01mm6euHH34o1FNWVkazZ88mJycnkkqlNGDAANq9e7fOfhAR7dy5kwYNGkRSqZQ8PT1p+fLlWjfhA0BffvklTZgwgWQyGfn4+NCuXbuIiCg/P7/VG2i2RaVS0bvvvkve3t4kkUioV69e9L//+79adX7//fekUCiEPqSlpbX6eRAR7dixg3jz0/XxORB2z4qLizFt2jTMmDEDubm5SEtLw6RJk0AdODr64YcfYtiwYcjOzkZ0dDSee+45PP/88/j73/+O48ePw9vbG88//3yH6mzu4sWL2LlzJxITE5GYmIj09HSsXLnSIO3fvn07Zs2aBYVCgeLiYmzfvl1n2Z3UajWioqLw66+/YtOmTTh79ixWrlwJExMTnev55Zdf8Pzzz2P+/Pk4e/YsPv/8cyQkJOBf//qXVtyKFSswZcoUnDx5EmPGjMGzzz6LW7duoVevXvjxxx8BND2jori4GB9//PFd+7d06VKsXLkSb731Fs6ePYvvvvuuxSNZY2NjsXjxYmRnZ0OhUGDcuHFaz51n3VQnJzDWDWRlZREAKigoaDGvvXsgf//734Xp4uJiAkBvvfWWUJaRkUEAWtwWWxddeyAWFhZaexyxsbEUGhp61/a3tw/z588X9jLaKmu+B7J3714Si8UtbpXfWj/Cw8PpnXfe0Yr5v//7P+rZs6cwDYDefPNNYfr27dsEgPbs2UNE/731fVlZmc513kmpVJJUKqUvv/xS53zNHsjKlSuFsoaGBnJzc6N3331XZz+IeA+ku+A9EHbPgoKCEB4ejoCAAPztb3/Dl19+ibKysg7VERgYKPxf8+s2ICCgRdmdj55tr969e8Pa2lqY7tmzp1CXIdqvj5ycHLi5uaFv377tij9x4gTefvttWFlZCa9Zs2ahuLgY1dXVQlzz99LS0hJyuVzv9y03Nxd1dXV3fXa85ml7AGBqaoohQ4YgNzdXr3WyroMTCLtnJiYmSElJwZ49e+Dn54fVq1fD19cX+fn5EIvFLQ4FNTQ0tKjDzMxM+L9IJGq1TK1W69XG5nVp6tPU1Vb7AbS7Dx3V0RPkt2/fxooVK5CTkyO8Tp06hT/++APm5uZCXFt9vd9t1OV+vX+s83ECYQYhEokwbNgwrFixAtnZ2ZBIJNixYwccHR1RXFwsxKlUKpw+fboTW6pba+0HcN/6EBgYiCtXruD3339vV/zgwYNx/vx5+Pj4tHiJxe37U5ZIJACa+tAeffr0gUwm03rGty6ZmZnC/xsbG5GVlYX+/fsDaHr/KisrUVVVJcRonnnOujYexsvu2ZEjR7B//35ERETAyckJR44cwfXr19G/f39YWlpi0aJF+Omnn+Dt7Y0PPvgA5eXlnd1kLW21HwBGjhx5X/oQFhaG4cOHY/Lkyfjggw/g4+ODc+fOQSQSYfTo0S3ily1bhrFjx8Ld3R1PPfUUxGIxTpw4gdOnT+N///d/27VODw8PiEQiJCYmYsyYMZDJZLCysmo13tzcHK+//jqWLFkCiUSCYcOG4fr16zhz5gxeeuklIW7NmjXo06cP+vfvjw8//BBlZWWYMWMGACA0NBQWFhb4xz/+gVdffRVHjhxBQkJCx94sZpR4D4TdM7lcjoMHD2LMmDHo27cv3nzzTbz//vuIiorCjBkzMH36dDz//PMICwuDl5cXRowY0dlN1tJW+wHc1z78+OOPGDp0KKZNmwY/Pz8sWbKk1b2DyMhIJCYmYt++fRg6dCgeffRRfPjhh/Dw8Gj3+h555BGsWLECb7zxBpydnTFv3ry7LvPWW29h8eLFWLZsGfr374+pU6e2OKeycuVKrFy5EkFBQTh06BD+85//wMHBAQBgb2+PTZs2ISkpCQEBAfj++++xfPnydreZGS++Ep0xpreCggJ4enoiOzsbAwcO7OzmsAeM90AYY4zphRMI63KioqK0hrI2f73zzjud3bwupbCwsNX30srKCoWFhZ3dRGbE+BAW63KuXr2KmpoanfPs7e1hb2//gFvUdTU2NqKgoKDV+b1794apKY+1YbpxAmGMMaYXPoTFGGNML5xAGGOM6YUTCGOMMb1wAmGMMaYXTiCMMcb0wgmEMcaYXjiBMMYY0wsnEMYYY3rhBMIYY0wvnEAYY4zphRMIY4wxvXACYYwxphdOIIwxxvTy/wECuLJfiVsh0AAAAABJRU5ErkJggg==",
      "text/plain": [
       "<IPython.core.display.Image object>"
      ]
     },
<<<<<<< HEAD
     "execution_count": 24,
=======
     "execution_count": 38,
>>>>>>> e052f61 (Add documentations about prediction enabled flag)
     "metadata": {},
     "output_type": "execute_result"
    }
   ],
   "source": [
    "# display the plot\n",
    "from IPython.display import Image\n",
    "Image(filename='data_tuning/pareto_frontier.png')\n"
   ]
  },
  {
   "cell_type": "markdown",
   "metadata": {},
   "source": [
    "Above you should see the pareto curve, saved to your tuning directory (ex: `data_tuning/pareto_frontier.png`).\n",
    "\n",
    "### More analysis\n",
    "\n",
    "The parameter combination that is the closest to (0,0) is marked with a green x and labeled with the last 4 digits of the uuid of the `target_cfg` folder.  You can read more details about this in the [paper](https://www.microsoft.com/en-us/research/publication/caasper-vertical-autoscaling/) in Figure 6."
   ]
  },
  {
   "cell_type": "code",
<<<<<<< HEAD
   "execution_count": 25,
=======
   "execution_count": 39,
>>>>>>> e052f61 (Add documentations about prediction enabled flag)
   "metadata": {},
   "outputs": [
    {
     "name": "stdout",
     "output_type": "stream",
     "text": [
      "Closest combination to (0, 0) is dimension_1: 19487.21896972081, dimension_2: 289.95169699353437\n",
      "Folder: target_cfg-6a972aeb-6bb4, Config: {}\n",
      "Folder: target_cfg-6a972aeb-6bb4\n",
      "All Configs:\n",
      "algo_specific_config: {'addend': 1}\n",
      "general_config: {'window': 60, 'lag': 10, 'max_cpu_limit': 25, 'min_cpu_limit': 1, 'recovery_time': 15}\n",
      "predictive_config: None\n",
      "Slack: 19487.21896972081\n",
      "Insufficient CPU: 289.95169699353437\n"
     ]
    }
   ],
   "source": [
    "# This function returns folder, config, dimension_1, and dimension_2 of the closest combination\n",
    "# We don't know what folder will be because it's random, but we can check the other values\n",
    "# We know that a config with the added value of 1 has the least slack and expect that to be the closest to zero\n",
    "folder, config, slack, insuff_cpu = pareto_2d.find_closest_to_zero()\n",
    "\n",
    "print(f\"Folder: {folder}\")\n",
    "# for config, we have a nested dictionary, so we need to print it out\n",
    "# now print all the configs\n",
    "print(\"All Configs:\")\n",
    "print(f\"algo_specific_config: {config.get('algo_specific_config')}\")\n",
    "print(f\"general_config: {config.get('general_config')}\")\n",
    "print(f\"predictive_config: {config.get('predictive_config')}\")\n",
    "\n",
    "print(f\"Slack: {slack}\")\n",
    "print(f\"Insufficient CPU: {insuff_cpu}\")"
   ]
  },
  {
   "cell_type": "markdown",
   "metadata": {},
   "source": [
    "Going back to the original combinations:\n",
    "\n",
    "```python\n",
    "algo_specific_params_to_tune = {\n",
    "    \"addend\": [1, 2, 3],  # the addend is the number of minutes to add to the prediction\n",
    "}\n",
    "params_to_tune = {\n",
    "    'window': [60, 120],  # the window size is the number of minutes to consider for the prediction\n",
    "}\n",
    "```\n",
    "\n",
    "We see that the best parameter for `addend` is 1, which makes sense because it will have the lowest buffer and therefore the least slack. But you may take a different approach in your analsis depending on your goals. (Ex: some customers prefer larger buffer and would say that `3 producted better results.)\n",
    "\n",
    "We also see that the smaller window (`60` seconds) produced a better result. This is because for our smoothing algorithm, 120 minutes is too much data to do this effectively, a smaller amount is better.  \n",
    "\n",
    "Now you can play around with new parameters and see what results you get!  \n",
    "\n",
    "#### Important:\n",
    "\n",
    "Make sure you clean up your folder before rerunning the simulation, else you will get innacurate results or errors\n",
    "\n"
   ]
  },
  {
   "cell_type": "code",
   "execution_count": 40,
   "metadata": {
    "vscode": {
     "languageId": "shellscript"
    }
   },
   "outputs": [],
   "source": [
    "! rm -rf data/_simulations\n",
    "! rm -rf data_tuning"
   ]
  }
 ],
 "metadata": {
  "kernelspec": {
   "display_name": "Python 3",
   "language": "python",
   "name": "python3"
  },
  "language_info": {
   "codemirror_mode": {
    "name": "ipython",
    "version": 3
   },
   "file_extension": ".py",
   "mimetype": "text/x-python",
   "name": "python",
   "nbconvert_exporter": "python",
   "pygments_lexer": "ipython3",
   "version": "3.10.14"
  }
 },
 "nbformat": 4,
 "nbformat_minor": 2
}
